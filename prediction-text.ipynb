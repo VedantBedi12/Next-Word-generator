{
 "cells": [
  {
   "cell_type": "code",
   "execution_count": 1,
   "id": "8f980814-0f23-44db-b43c-41f4c0428c11",
   "metadata": {},
   "outputs": [],
   "source": [
    "faqs = \"\"\"Pizza, the delectable and iconic dish that has transcended borders and captivated taste buds worldwide, is a testament to the extraordinary fusion of flavors, creativity, and cultural significance. Originating from the sun-kissed lands of Italy, pizza has evolved into an art form that unites people from diverse backgrounds in a shared love for its mouthwatering combinations. Its history stretches back centuries, with roots tracing back to ancient civilizations like the Greeks, Romans, and Egyptians, who all had their versions of flatbreads adorned with various ingredients. However, it was the vibrant city of Naples, Italy, that birthed the pizza we know and adore today.\n",
    "\n",
    "With its soft and chewy Neapolitan crust, topped with the perfect balance of tomatoes, mozzarella cheese, and fresh basil, the Margherita pizza pays homage to Queen Margherita of Italy and embodies the colors of the Italian flag. As pizza migrated from the shores of Naples, it found its way to the United States with Italian immigrants, who introduced this culinary delight to the American palate in the late 19th and early 20th centuries. The Neapolitan style of pizza evolved into the New York-style pizza, characterized by its thin, foldable crust and generous toppings.\n",
    "\n",
    "Over the years, pizza has transcended its humble origins and embraced the boundless creativity of chefs and home cooks around the world. In the United States, the deep-dish pizza of Chicago has become a symbol of indulgence, with its thick, buttery crust and layers of cheese and toppings. Meanwhile, in Italy, other regional variations have emerged, such as the Roman-style pizza, known for its thin and crispy crust, and the Sicilian-style pizza, which features a thick, fluffy crust and robust flavors.\n",
    "\n",
    "Beyond its traditional forms, pizza has embraced global influences and culinary fusions, giving rise to a multitude of exciting and diverse styles. Asian-inspired pizzas feature ingredients like teriyaki sauce, spicy sriracha, and toppings like kimchi and Thai basil, while Mexican-inspired pizzas boast the flavors of salsa, guacamole, and chorizo. In recent years, the plant-based movement has also made its mark on the pizza landscape, with vegan cheese, tofu-based toppings, and creative vegetable combinations offering delightful options for those seeking a more sustainable and cruelty-free dining experience.\n",
    "\n",
    "Pizza has woven itself into the fabric of our cultures, becoming a staple at parties, gatherings, and sporting events. It is not merely a dish but a shared experience, bringing people together and sparking joy and conversation. The pizza industry has expanded exponentially, with pizzerias, delivery services, and frozen pizza options available in every corner of the world. Moreover, the advent of technology and the rise of online food delivery platforms have made pizza more accessible than ever, allowing us to indulge in this culinary delight with just a few taps on our smartphones.\n",
    "\n",
    "The influence of pizza goes beyond the realm of food, permeating various aspects of popular culture. It has inspired movies like \"Pizza, Love, and Other Delicacies\" and \"Mystic Pizza,\" as well as countless songs, artwork, and even fashion trends. Pizza has become a symbol of comfort, happiness, and celebration, and its iconic triangular slices have earned a special place in our hearts.\n",
    "\n",
    "In conclusion, pizza's journey from humble beginnings to global fame is a testament to its undeniable charm and allure. With its diverse flavors, endless possibilities, and ability to bring people together, pizza has earned its place as one of the world's most beloved dishes. From the ancient civilizations to modern-day innovations, the pizza phenomenon continues to evolve, adapt, and delight, ensuring its lasting presence on our plates and in our memories for generations to come. It has become a canvas for culinary experimentation, where chefs and home cooks alike push the boundaries of traditional pizza toppings and combinations. The artistry of pizza-making lies not only in the flavors but also in the presentation. The vibrant colors of fresh vegetables, the melty cheese cascading over the edges, and the aromatic herbs sprinkled delicately on top all contribute to the visual appeal of this beloved dish.\n",
    "\n",
    "One of the most fascinating aspects of pizza is its ability to adapt to local tastes and ingredients. As it traveled from country to country, it assimilated the flavors and culinary traditions of each region. In Greece, the birthplace of the ancient flatbread that inspired pizza, you can find a variation called \"pita pizza,\" where the dough is replaced with flaky phyllo pastry. In Brazil, \"pizza de frango com catupiry\" is a popular choice, featuring shredded chicken and a local creamy cheese called catupiry. In India, you may encounter a pizza topped with spicy paneer, a type of fresh cheese, and aromatic spices like cumin and coriander.\n",
    "\n",
    "Furthermore, pizza has become a symbol of cultural integration and acceptance. In multicultural cities around the world, you can find pizzerias run by immigrants who bring their unique culinary heritage to the pizza-making process. This blending of flavors and techniques creates a beautiful fusion that reflects the diverse communities in which pizza has found a home.\n",
    "\n",
    "The joy of pizza extends beyond its consumption. The process of making pizza has become a cherished tradition in many households. Families and friends gather in the kitchen, rolling out dough, spreading sauce, and layering their favorite toppings. It's an opportunity for connection, laughter, and creativity. And let's not forget the enticing aroma that fills the air as the pizza bakes in the oven, teasing our senses and building anticipation.\n",
    "\n",
    "Pizza has also made its mark in the realm of fast food. It has become the go-to choice for a quick and satisfying meal. Whether it's a late-night craving or a lunchtime treat, pizza delivery services ensure that a piping-hot pie is just a phone call away. The convenience and wide availability of pizza have made it a staple at parties, game nights, and casual gatherings. It brings people together, sparks conversations, and adds a sense of comfort and indulgence to any social occasion.\n",
    "\n",
    "In recent years, pizza has embraced the growing demand for healthier options. Traditional ingredients have been swapped for alternatives that cater to dietary restrictions and preferences. Gluten-free crusts made from rice flour or cauliflower have gained popularity, allowing those with gluten intolerance or celiac disease to enjoy their favorite dish. Vegan cheese and plant-based meat substitutes have also made their way onto pizzas, offering a cruelty-free alternative without compromising on taste.\n",
    "\n",
    "As the world becomes more interconnected, pizza continues to evolve. Food trucks and pop-up pizzerias have emerged, bringing artisanal pizzas to street corners and food festivals. These mobile eateries provide a unique and exciting dining experience, allowing customers to savor freshly baked pizza while immersing themselves in the bustling atmosphere of local markets and events.\n",
    "\n",
    "The future of pizza is undoubtedly bright. With technological advancements, we may see innovations in pizza-making techniques and delivery methods. The rise of automation and robotics may streamline the pizza production process, ensuring consistent quality and efficiency. Virtual kitchens and ghost restaurants could expand the reach of pizza, making it available in areas previously underserved by traditional brick-and-mortar establishments.\n",
    "\n",
    "Pizza is much more than a delicious dish—it is a culinary phenomenon that has captured the hearts and palates of people around the world. Its journey from the ancient flatbreads of the Mediterranean to the global sensation it is today showcases its adaptability, creativity, and power to bring people together. Pizza has become a cultural icon, a symbol of indulgence and comfort, and a canvas for culinary exploration. Whether enjoyed in its traditional form or through innovative variations, pizza continues to delight and satisfy, leaving a lasting impression on the taste buds and memories of those fortunate enough to experience its magic. \n",
    "In addition to its culinary impact, pizza has left an indelible mark on popular culture. It has become an iconic symbol in movies, TV shows, and literature, often depicted as the quintessential food for gatherings, celebrations, and even moments of solace. Who can forget the iconic scene in the movie \"Home Alone,\" where Kevin McCallister joyfully devours a cheese pizza all to himself? Pizza has become synonymous with comfort, joy, and a sense of carefree indulgence.\n",
    "\n",
    "Moreover, pizza has permeated the world of sports, becoming a staple at stadiums and arenas. It has become the go-to choice for fans cheering on their favorite teams, as the convenience and shareable nature of pizza make it perfect for game days. Whether it's a slice grabbed from a concession stand or a delivery to the living room during a televised match, pizza and sports have formed a symbiotic relationship, enhancing the overall experience for fans.\n",
    "\n",
    "Beyond its cultural and culinary significance, pizza also has economic implications. The pizza industry is a thriving sector that generates billions of dollars in revenue globally. Pizzerias, ranging from small family-owned establishments to large chains, provide employment opportunities and contribute to local economies. The demand for pizza has created a market that supports not only traditional pizza establishments but also various related industries, including food delivery services, pizza ingredient suppliers, and equipment manufacturers.\n",
    "\n",
    "Furthermore, pizza has become a medium for social impact. Many pizzerias and pizza-focused initiatives have taken on philanthropic endeavors, using their platform to support charitable causes and make a positive difference in their communities. From organizing fundraisers to donating pizzas to those in need, these initiatives showcase the power of pizza as more than just a culinary delight but also a force for good.\n",
    "\n",
    "As we look to the future, pizza will undoubtedly continue to evolve and adapt to changing tastes, dietary preferences, and technological advancements. The fusion of global flavors will persist, with innovative combinations that reflect the ever-expanding culinary landscape. Health-conscious options will continue to gain popularity, accommodating diverse dietary needs and reflecting the growing interest in conscious eating.\n",
    "\n",
    "Technology will play a significant role in shaping the future of pizza. Online ordering platforms, mobile apps, and delivery drones are just a few examples of how technology has revolutionized the way we order and enjoy pizza. Virtual reality and augmented reality may even enhance the dining experience, allowing customers to explore virtual pizzerias, customize their toppings, and interact with digital representations of their favorite pies.\"\"\"\n"
   ]
  },
  {
   "cell_type": "code",
   "execution_count": 2,
   "id": "4dcf2153-63ab-4631-8f4e-8813748016a0",
   "metadata": {},
   "outputs": [],
   "source": [
    "import tensorflow as tf\n",
    "from tensorflow.keras.preprocessing.text import Tokenizer"
   ]
  },
  {
   "cell_type": "code",
   "execution_count": 3,
   "id": "f6c8886c-9f43-4d08-bea7-b5d4f7e141b4",
   "metadata": {},
   "outputs": [],
   "source": [
    "    tokenizer = Tokenizer()"
   ]
  },
  {
   "cell_type": "code",
   "execution_count": 4,
   "id": "de128b55-d4a9-4daf-85bc-ed8878d8315b",
   "metadata": {},
   "outputs": [],
   "source": [
    "tokenizer.fit_on_texts([faqs])"
   ]
  },
  {
   "cell_type": "code",
   "execution_count": 5,
   "id": "5ad057b2-97f7-4108-ad1e-3ac9d942ba6f",
   "metadata": {},
   "outputs": [],
   "source": [
    "#tokenizer.word_index"
   ]
  },
  {
   "cell_type": "code",
   "execution_count": 6,
   "id": "51975b12-5efe-4763-87f7-0ac03bb10368",
   "metadata": {},
   "outputs": [],
   "source": [
    "#for sentences in faqs.split('.'):\n",
    "    #print(sentences)\n"
   ]
  },
  {
   "cell_type": "code",
   "execution_count": 7,
   "id": "5052432a-e827-43cc-a89e-2411b5acc5a6",
   "metadata": {},
   "outputs": [],
   "source": [
    "#for sentences in faqs.split('.'):\n",
    "    #print(tokenizer.texts_to_sequences([sentences]))"
   ]
  },
  {
   "cell_type": "code",
   "execution_count": 8,
   "id": "ec76b830-0bca-4455-bed8-63e0e5776734",
   "metadata": {},
   "outputs": [],
   "source": [
    "input_sequences = []\n",
    "for sentences in faqs.split('.'):\n",
    "    tokenized_sent = tokenizer.texts_to_sequences([sentences])[0]\n",
    "\n",
    "    for i in range(1, len(tokenized_sent)):\n",
    "        n_gram = tokenized_sent[:i+1]\n",
    "        input_sequences.append(n_gram)"
   ]
  },
  {
   "cell_type": "code",
   "execution_count": 9,
   "id": "e42112b1-11bb-46e2-89f6-2d1f30a4fe60",
   "metadata": {},
   "outputs": [],
   "source": [
    "#input_sequences"
   ]
  },
  {
   "cell_type": "code",
   "execution_count": 10,
   "id": "101ee2c6-fa8a-4b02-a082-c70ca26d3852",
   "metadata": {},
   "outputs": [
    {
     "data": {
      "text/plain": [
       "40"
      ]
     },
     "execution_count": 10,
     "metadata": {},
     "output_type": "execute_result"
    }
   ],
   "source": [
    "max([len(x) for x in input_sequences])"
   ]
  },
  {
   "cell_type": "code",
   "execution_count": 11,
   "id": "60d89f98-4203-4a37-857c-90b6bf3c2326",
   "metadata": {},
   "outputs": [],
   "source": [
    "from tensorflow.keras.preprocessing.sequence import pad_sequences"
   ]
  },
  {
   "cell_type": "code",
   "execution_count": 12,
   "id": "6663f348-7f78-40cf-95b4-4d4744610ee3",
   "metadata": {},
   "outputs": [],
   "source": [
    "padded_seq = pad_sequences(input_sequences, maxlen = 40, padding = 'pre')"
   ]
  },
  {
   "cell_type": "code",
   "execution_count": 13,
   "id": "85e6cd26-ceba-4b5a-9d90-3783197d0e74",
   "metadata": {},
   "outputs": [],
   "source": [
    "x=padded_seq[:,:-1]"
   ]
  },
  {
   "cell_type": "code",
   "execution_count": 14,
   "id": "c6519d1f-1de1-4814-ba84-d4cff96f2efd",
   "metadata": {},
   "outputs": [],
   "source": [
    " y = padded_seq[:,-1]"
   ]
  },
  {
   "cell_type": "code",
   "execution_count": 15,
   "id": "cd6ba9ca-596f-474b-b2ad-66f4430f7b78",
   "metadata": {},
   "outputs": [
    {
     "data": {
      "text/plain": [
       "686"
      ]
     },
     "execution_count": 15,
     "metadata": {},
     "output_type": "execute_result"
    }
   ],
   "source": [
    "len(tokenizer.word_index)"
   ]
  },
  {
   "cell_type": "code",
   "execution_count": 16,
   "id": "bb18a958-890b-4e90-859f-ab89177d8011",
   "metadata": {},
   "outputs": [
    {
     "data": {
      "text/plain": [
       "(1629, 39)"
      ]
     },
     "execution_count": 16,
     "metadata": {},
     "output_type": "execute_result"
    }
   ],
   "source": [
    "x.shape"
   ]
  },
  {
   "cell_type": "code",
   "execution_count": 17,
   "id": "9516d824-0b50-4925-b063-d4c0bb69ae1e",
   "metadata": {},
   "outputs": [
    {
     "data": {
      "text/plain": [
       "(1629,)"
      ]
     },
     "execution_count": 17,
     "metadata": {},
     "output_type": "execute_result"
    }
   ],
   "source": [
    "y.shape"
   ]
  },
  {
   "cell_type": "code",
   "execution_count": 18,
   "id": "d43c7ab2-b8de-4c09-8218-53c48afa0eec",
   "metadata": {},
   "outputs": [],
   "source": [
    "from tensorflow.keras.utils import to_categorical\n",
    "y = to_categorical(y, num_classes = 687)"
   ]
  },
  {
   "cell_type": "code",
   "execution_count": 19,
   "id": "426b1de7-ba60-4ca4-a5ad-b571045d16c7",
   "metadata": {},
   "outputs": [
    {
     "data": {
      "text/plain": [
       "(1629, 687)"
      ]
     },
     "execution_count": 19,
     "metadata": {},
     "output_type": "execute_result"
    }
   ],
   "source": [
    "y.shape"
   ]
  },
  {
   "cell_type": "code",
   "execution_count": 20,
   "id": "7b1331f0-6a3a-48df-b5c6-484a21e4e9f1",
   "metadata": {},
   "outputs": [],
   "source": [
    "from tensorflow.keras.models import Sequential \n",
    "from tensorflow.keras.layers import Embedding, LSTM, Dense"
   ]
  },
  {
   "cell_type": "code",
   "execution_count": 21,
   "id": "9222b129-ade9-487a-9cb1-2763bdd9f436",
   "metadata": {},
   "outputs": [
    {
     "name": "stderr",
     "output_type": "stream",
     "text": [
      "/Library/Frameworks/Python.framework/Versions/3.12/lib/python3.12/site-packages/keras/src/layers/core/embedding.py:90: UserWarning: Argument `input_length` is deprecated. Just remove it.\n",
      "  warnings.warn(\n"
     ]
    }
   ],
   "source": [
    "model = Sequential()\n",
    "model.add(Embedding(687, 100,  input_length = 39))\n",
    "model.add(LSTM(200))\n",
    "model.add(Dense(687, activation = 'softmax'))"
   ]
  },
  {
   "cell_type": "code",
   "execution_count": 22,
   "id": "43153e02-1031-491d-8a5d-33ccea0420dd",
   "metadata": {},
   "outputs": [],
   "source": [
    "model.build(input_shape=(None, 39))"
   ]
  },
  {
   "cell_type": "code",
   "execution_count": 23,
   "id": "379bfbd1-434f-4062-a5bc-d5ba064a83f8",
   "metadata": {},
   "outputs": [],
   "source": [
    "model.compile(optimizer='adam', loss='categorical_crossentropy', metrics=['accuracy'])"
   ]
  },
  {
   "cell_type": "code",
   "execution_count": 24,
   "id": "b840e5b6-7c33-4fa9-a2ad-128888fcdc8e",
   "metadata": {},
   "outputs": [
    {
     "data": {
      "text/html": [
       "<pre style=\"white-space:pre;overflow-x:auto;line-height:normal;font-family:Menlo,'DejaVu Sans Mono',consolas,'Courier New',monospace\"><span style=\"font-weight: bold\">Model: \"sequential\"</span>\n",
       "</pre>\n"
      ],
      "text/plain": [
       "\u001b[1mModel: \"sequential\"\u001b[0m\n"
      ]
     },
     "metadata": {},
     "output_type": "display_data"
    },
    {
     "data": {
      "text/html": [
       "<pre style=\"white-space:pre;overflow-x:auto;line-height:normal;font-family:Menlo,'DejaVu Sans Mono',consolas,'Courier New',monospace\">┏━━━━━━━━━━━━━━━━━━━━━━━━━━━━━━━━━┳━━━━━━━━━━━━━━━━━━━━━━━━┳━━━━━━━━━━━━━━━┓\n",
       "┃<span style=\"font-weight: bold\"> Layer (type)                    </span>┃<span style=\"font-weight: bold\"> Output Shape           </span>┃<span style=\"font-weight: bold\">       Param # </span>┃\n",
       "┡━━━━━━━━━━━━━━━━━━━━━━━━━━━━━━━━━╇━━━━━━━━━━━━━━━━━━━━━━━━╇━━━━━━━━━━━━━━━┩\n",
       "│ embedding (<span style=\"color: #0087ff; text-decoration-color: #0087ff\">Embedding</span>)           │ (<span style=\"color: #00d7ff; text-decoration-color: #00d7ff\">None</span>, <span style=\"color: #00af00; text-decoration-color: #00af00\">39</span>, <span style=\"color: #00af00; text-decoration-color: #00af00\">100</span>)        │        <span style=\"color: #00af00; text-decoration-color: #00af00\">68,700</span> │\n",
       "├─────────────────────────────────┼────────────────────────┼───────────────┤\n",
       "│ lstm (<span style=\"color: #0087ff; text-decoration-color: #0087ff\">LSTM</span>)                     │ (<span style=\"color: #00d7ff; text-decoration-color: #00d7ff\">None</span>, <span style=\"color: #00af00; text-decoration-color: #00af00\">200</span>)            │       <span style=\"color: #00af00; text-decoration-color: #00af00\">240,800</span> │\n",
       "├─────────────────────────────────┼────────────────────────┼───────────────┤\n",
       "│ dense (<span style=\"color: #0087ff; text-decoration-color: #0087ff\">Dense</span>)                   │ (<span style=\"color: #00d7ff; text-decoration-color: #00d7ff\">None</span>, <span style=\"color: #00af00; text-decoration-color: #00af00\">687</span>)            │       <span style=\"color: #00af00; text-decoration-color: #00af00\">138,087</span> │\n",
       "└─────────────────────────────────┴────────────────────────┴───────────────┘\n",
       "</pre>\n"
      ],
      "text/plain": [
       "┏━━━━━━━━━━━━━━━━━━━━━━━━━━━━━━━━━┳━━━━━━━━━━━━━━━━━━━━━━━━┳━━━━━━━━━━━━━━━┓\n",
       "┃\u001b[1m \u001b[0m\u001b[1mLayer (type)                   \u001b[0m\u001b[1m \u001b[0m┃\u001b[1m \u001b[0m\u001b[1mOutput Shape          \u001b[0m\u001b[1m \u001b[0m┃\u001b[1m \u001b[0m\u001b[1m      Param #\u001b[0m\u001b[1m \u001b[0m┃\n",
       "┡━━━━━━━━━━━━━━━━━━━━━━━━━━━━━━━━━╇━━━━━━━━━━━━━━━━━━━━━━━━╇━━━━━━━━━━━━━━━┩\n",
       "│ embedding (\u001b[38;5;33mEmbedding\u001b[0m)           │ (\u001b[38;5;45mNone\u001b[0m, \u001b[38;5;34m39\u001b[0m, \u001b[38;5;34m100\u001b[0m)        │        \u001b[38;5;34m68,700\u001b[0m │\n",
       "├─────────────────────────────────┼────────────────────────┼───────────────┤\n",
       "│ lstm (\u001b[38;5;33mLSTM\u001b[0m)                     │ (\u001b[38;5;45mNone\u001b[0m, \u001b[38;5;34m200\u001b[0m)            │       \u001b[38;5;34m240,800\u001b[0m │\n",
       "├─────────────────────────────────┼────────────────────────┼───────────────┤\n",
       "│ dense (\u001b[38;5;33mDense\u001b[0m)                   │ (\u001b[38;5;45mNone\u001b[0m, \u001b[38;5;34m687\u001b[0m)            │       \u001b[38;5;34m138,087\u001b[0m │\n",
       "└─────────────────────────────────┴────────────────────────┴───────────────┘\n"
      ]
     },
     "metadata": {},
     "output_type": "display_data"
    },
    {
     "data": {
      "text/html": [
       "<pre style=\"white-space:pre;overflow-x:auto;line-height:normal;font-family:Menlo,'DejaVu Sans Mono',consolas,'Courier New',monospace\"><span style=\"font-weight: bold\"> Total params: </span><span style=\"color: #00af00; text-decoration-color: #00af00\">447,587</span> (1.71 MB)\n",
       "</pre>\n"
      ],
      "text/plain": [
       "\u001b[1m Total params: \u001b[0m\u001b[38;5;34m447,587\u001b[0m (1.71 MB)\n"
      ]
     },
     "metadata": {},
     "output_type": "display_data"
    },
    {
     "data": {
      "text/html": [
       "<pre style=\"white-space:pre;overflow-x:auto;line-height:normal;font-family:Menlo,'DejaVu Sans Mono',consolas,'Courier New',monospace\"><span style=\"font-weight: bold\"> Trainable params: </span><span style=\"color: #00af00; text-decoration-color: #00af00\">447,587</span> (1.71 MB)\n",
       "</pre>\n"
      ],
      "text/plain": [
       "\u001b[1m Trainable params: \u001b[0m\u001b[38;5;34m447,587\u001b[0m (1.71 MB)\n"
      ]
     },
     "metadata": {},
     "output_type": "display_data"
    },
    {
     "data": {
      "text/html": [
       "<pre style=\"white-space:pre;overflow-x:auto;line-height:normal;font-family:Menlo,'DejaVu Sans Mono',consolas,'Courier New',monospace\"><span style=\"font-weight: bold\"> Non-trainable params: </span><span style=\"color: #00af00; text-decoration-color: #00af00\">0</span> (0.00 B)\n",
       "</pre>\n"
      ],
      "text/plain": [
       "\u001b[1m Non-trainable params: \u001b[0m\u001b[38;5;34m0\u001b[0m (0.00 B)\n"
      ]
     },
     "metadata": {},
     "output_type": "display_data"
    }
   ],
   "source": [
    "model.summary()"
   ]
  },
  {
   "cell_type": "code",
   "execution_count": 25,
   "id": "d2db7c2f-2b1d-4a9f-a6f5-5a6caea31615",
   "metadata": {},
   "outputs": [
    {
     "name": "stdout",
     "output_type": "stream",
     "text": [
      "Epoch 1/50\n",
      "\u001b[1m51/51\u001b[0m \u001b[32m━━━━━━━━━━━━━━━━━━━━\u001b[0m\u001b[37m\u001b[0m \u001b[1m2s\u001b[0m 23ms/step - accuracy: 0.0292 - loss: 6.2759\n",
      "Epoch 2/50\n",
      "\u001b[1m51/51\u001b[0m \u001b[32m━━━━━━━━━━━━━━━━━━━━\u001b[0m\u001b[37m\u001b[0m \u001b[1m1s\u001b[0m 23ms/step - accuracy: 0.0494 - loss: 5.7468\n",
      "Epoch 3/50\n",
      "\u001b[1m51/51\u001b[0m \u001b[32m━━━━━━━━━━━━━━━━━━━━\u001b[0m\u001b[37m\u001b[0m \u001b[1m1s\u001b[0m 24ms/step - accuracy: 0.0557 - loss: 5.6739\n",
      "Epoch 4/50\n",
      "\u001b[1m51/51\u001b[0m \u001b[32m━━━━━━━━━━━━━━━━━━━━\u001b[0m\u001b[37m\u001b[0m \u001b[1m1s\u001b[0m 24ms/step - accuracy: 0.0592 - loss: 5.5419\n",
      "Epoch 5/50\n",
      "\u001b[1m51/51\u001b[0m \u001b[32m━━━━━━━━━━━━━━━━━━━━\u001b[0m\u001b[37m\u001b[0m \u001b[1m1s\u001b[0m 24ms/step - accuracy: 0.0733 - loss: 5.3219\n",
      "Epoch 6/50\n",
      "\u001b[1m51/51\u001b[0m \u001b[32m━━━━━━━━━━━━━━━━━━━━\u001b[0m\u001b[37m\u001b[0m \u001b[1m1s\u001b[0m 24ms/step - accuracy: 0.0931 - loss: 5.1558\n",
      "Epoch 7/50\n",
      "\u001b[1m51/51\u001b[0m \u001b[32m━━━━━━━━━━━━━━━━━━━━\u001b[0m\u001b[37m\u001b[0m \u001b[1m1s\u001b[0m 25ms/step - accuracy: 0.1213 - loss: 4.9407\n",
      "Epoch 8/50\n",
      "\u001b[1m51/51\u001b[0m \u001b[32m━━━━━━━━━━━━━━━━━━━━\u001b[0m\u001b[37m\u001b[0m \u001b[1m1s\u001b[0m 26ms/step - accuracy: 0.1242 - loss: 4.7725\n",
      "Epoch 9/50\n",
      "\u001b[1m51/51\u001b[0m \u001b[32m━━━━━━━━━━━━━━━━━━━━\u001b[0m\u001b[37m\u001b[0m \u001b[1m1s\u001b[0m 24ms/step - accuracy: 0.1525 - loss: 4.5289\n",
      "Epoch 10/50\n",
      "\u001b[1m51/51\u001b[0m \u001b[32m━━━━━━━━━━━━━━━━━━━━\u001b[0m\u001b[37m\u001b[0m \u001b[1m1s\u001b[0m 25ms/step - accuracy: 0.1714 - loss: 4.2846\n",
      "Epoch 11/50\n",
      "\u001b[1m51/51\u001b[0m \u001b[32m━━━━━━━━━━━━━━━━━━━━\u001b[0m\u001b[37m\u001b[0m \u001b[1m1s\u001b[0m 25ms/step - accuracy: 0.2135 - loss: 3.9795\n",
      "Epoch 12/50\n",
      "\u001b[1m51/51\u001b[0m \u001b[32m━━━━━━━━━━━━━━━━━━━━\u001b[0m\u001b[37m\u001b[0m \u001b[1m1s\u001b[0m 25ms/step - accuracy: 0.2430 - loss: 3.7956\n",
      "Epoch 13/50\n",
      "\u001b[1m51/51\u001b[0m \u001b[32m━━━━━━━━━━━━━━━━━━━━\u001b[0m\u001b[37m\u001b[0m \u001b[1m1s\u001b[0m 24ms/step - accuracy: 0.2544 - loss: 3.6004\n",
      "Epoch 14/50\n",
      "\u001b[1m51/51\u001b[0m \u001b[32m━━━━━━━━━━━━━━━━━━━━\u001b[0m\u001b[37m\u001b[0m \u001b[1m1s\u001b[0m 24ms/step - accuracy: 0.3098 - loss: 3.2569\n",
      "Epoch 15/50\n",
      "\u001b[1m51/51\u001b[0m \u001b[32m━━━━━━━━━━━━━━━━━━━━\u001b[0m\u001b[37m\u001b[0m \u001b[1m1s\u001b[0m 25ms/step - accuracy: 0.3171 - loss: 3.1518\n",
      "Epoch 16/50\n",
      "\u001b[1m51/51\u001b[0m \u001b[32m━━━━━━━━━━━━━━━━━━━━\u001b[0m\u001b[37m\u001b[0m \u001b[1m1s\u001b[0m 24ms/step - accuracy: 0.4039 - loss: 2.8504\n",
      "Epoch 17/50\n",
      "\u001b[1m51/51\u001b[0m \u001b[32m━━━━━━━━━━━━━━━━━━━━\u001b[0m\u001b[37m\u001b[0m \u001b[1m1s\u001b[0m 25ms/step - accuracy: 0.4350 - loss: 2.7254\n",
      "Epoch 18/50\n",
      "\u001b[1m51/51\u001b[0m \u001b[32m━━━━━━━━━━━━━━━━━━━━\u001b[0m\u001b[37m\u001b[0m \u001b[1m1s\u001b[0m 24ms/step - accuracy: 0.5071 - loss: 2.4484\n",
      "Epoch 19/50\n",
      "\u001b[1m51/51\u001b[0m \u001b[32m━━━━━━━━━━━━━━━━━━━━\u001b[0m\u001b[37m\u001b[0m \u001b[1m1s\u001b[0m 24ms/step - accuracy: 0.5639 - loss: 2.3324\n",
      "Epoch 20/50\n",
      "\u001b[1m51/51\u001b[0m \u001b[32m━━━━━━━━━━━━━━━━━━━━\u001b[0m\u001b[37m\u001b[0m \u001b[1m1s\u001b[0m 24ms/step - accuracy: 0.6026 - loss: 2.1487\n",
      "Epoch 21/50\n",
      "\u001b[1m51/51\u001b[0m \u001b[32m━━━━━━━━━━━━━━━━━━━━\u001b[0m\u001b[37m\u001b[0m \u001b[1m1s\u001b[0m 24ms/step - accuracy: 0.6422 - loss: 1.9748\n",
      "Epoch 22/50\n",
      "\u001b[1m51/51\u001b[0m \u001b[32m━━━━━━━━━━━━━━━━━━━━\u001b[0m\u001b[37m\u001b[0m \u001b[1m1s\u001b[0m 24ms/step - accuracy: 0.7108 - loss: 1.7972\n",
      "Epoch 23/50\n",
      "\u001b[1m51/51\u001b[0m \u001b[32m━━━━━━━━━━━━━━━━━━━━\u001b[0m\u001b[37m\u001b[0m \u001b[1m1s\u001b[0m 24ms/step - accuracy: 0.7376 - loss: 1.6540\n",
      "Epoch 24/50\n",
      "\u001b[1m51/51\u001b[0m \u001b[32m━━━━━━━━━━━━━━━━━━━━\u001b[0m\u001b[37m\u001b[0m \u001b[1m1s\u001b[0m 24ms/step - accuracy: 0.7760 - loss: 1.5122\n",
      "Epoch 25/50\n",
      "\u001b[1m51/51\u001b[0m \u001b[32m━━━━━━━━━━━━━━━━━━━━\u001b[0m\u001b[37m\u001b[0m \u001b[1m1s\u001b[0m 25ms/step - accuracy: 0.7929 - loss: 1.4399\n",
      "Epoch 26/50\n",
      "\u001b[1m51/51\u001b[0m \u001b[32m━━━━━━━━━━━━━━━━━━━━\u001b[0m\u001b[37m\u001b[0m \u001b[1m1s\u001b[0m 26ms/step - accuracy: 0.8275 - loss: 1.3180\n",
      "Epoch 27/50\n",
      "\u001b[1m51/51\u001b[0m \u001b[32m━━━━━━━━━━━━━━━━━━━━\u001b[0m\u001b[37m\u001b[0m \u001b[1m1s\u001b[0m 27ms/step - accuracy: 0.8368 - loss: 1.1639\n",
      "Epoch 28/50\n",
      "\u001b[1m51/51\u001b[0m \u001b[32m━━━━━━━━━━━━━━━━━━━━\u001b[0m\u001b[37m\u001b[0m \u001b[1m1s\u001b[0m 25ms/step - accuracy: 0.8622 - loss: 1.0778\n",
      "Epoch 29/50\n",
      "\u001b[1m51/51\u001b[0m \u001b[32m━━━━━━━━━━━━━━━━━━━━\u001b[0m\u001b[37m\u001b[0m \u001b[1m1s\u001b[0m 24ms/step - accuracy: 0.8781 - loss: 0.9959\n",
      "Epoch 30/50\n",
      "\u001b[1m51/51\u001b[0m \u001b[32m━━━━━━━━━━━━━━━━━━━━\u001b[0m\u001b[37m\u001b[0m \u001b[1m1s\u001b[0m 24ms/step - accuracy: 0.8802 - loss: 0.9380\n",
      "Epoch 31/50\n",
      "\u001b[1m51/51\u001b[0m \u001b[32m━━━━━━━━━━━━━━━━━━━━\u001b[0m\u001b[37m\u001b[0m \u001b[1m1s\u001b[0m 24ms/step - accuracy: 0.9054 - loss: 0.8218\n",
      "Epoch 32/50\n",
      "\u001b[1m51/51\u001b[0m \u001b[32m━━━━━━━━━━━━━━━━━━━━\u001b[0m\u001b[37m\u001b[0m \u001b[1m1s\u001b[0m 27ms/step - accuracy: 0.9165 - loss: 0.7477\n",
      "Epoch 33/50\n",
      "\u001b[1m51/51\u001b[0m \u001b[32m━━━━━━━━━━━━━━━━━━━━\u001b[0m\u001b[37m\u001b[0m \u001b[1m1s\u001b[0m 24ms/step - accuracy: 0.9175 - loss: 0.6951\n",
      "Epoch 34/50\n",
      "\u001b[1m51/51\u001b[0m \u001b[32m━━━━━━━━━━━━━━━━━━━━\u001b[0m\u001b[37m\u001b[0m \u001b[1m1s\u001b[0m 25ms/step - accuracy: 0.9332 - loss: 0.6225\n",
      "Epoch 35/50\n",
      "\u001b[1m51/51\u001b[0m \u001b[32m━━━━━━━━━━━━━━━━━━━━\u001b[0m\u001b[37m\u001b[0m \u001b[1m1s\u001b[0m 25ms/step - accuracy: 0.9316 - loss: 0.5971\n",
      "Epoch 36/50\n",
      "\u001b[1m51/51\u001b[0m \u001b[32m━━━━━━━━━━━━━━━━━━━━\u001b[0m\u001b[37m\u001b[0m \u001b[1m1s\u001b[0m 25ms/step - accuracy: 0.9427 - loss: 0.5360\n",
      "Epoch 37/50\n",
      "\u001b[1m51/51\u001b[0m \u001b[32m━━━━━━━━━━━━━━━━━━━━\u001b[0m\u001b[37m\u001b[0m \u001b[1m1s\u001b[0m 25ms/step - accuracy: 0.9437 - loss: 0.5032\n",
      "Epoch 38/50\n",
      "\u001b[1m51/51\u001b[0m \u001b[32m━━━━━━━━━━━━━━━━━━━━\u001b[0m\u001b[37m\u001b[0m \u001b[1m1s\u001b[0m 24ms/step - accuracy: 0.9499 - loss: 0.4558\n",
      "Epoch 39/50\n",
      "\u001b[1m51/51\u001b[0m \u001b[32m━━━━━━━━━━━━━━━━━━━━\u001b[0m\u001b[37m\u001b[0m \u001b[1m1s\u001b[0m 26ms/step - accuracy: 0.9545 - loss: 0.4173\n",
      "Epoch 40/50\n",
      "\u001b[1m51/51\u001b[0m \u001b[32m━━━━━━━━━━━━━━━━━━━━\u001b[0m\u001b[37m\u001b[0m \u001b[1m1s\u001b[0m 25ms/step - accuracy: 0.9527 - loss: 0.3965\n",
      "Epoch 41/50\n",
      "\u001b[1m51/51\u001b[0m \u001b[32m━━━━━━━━━━━━━━━━━━━━\u001b[0m\u001b[37m\u001b[0m \u001b[1m1s\u001b[0m 25ms/step - accuracy: 0.9598 - loss: 0.3662\n",
      "Epoch 42/50\n",
      "\u001b[1m51/51\u001b[0m \u001b[32m━━━━━━━━━━━━━━━━━━━━\u001b[0m\u001b[37m\u001b[0m \u001b[1m1s\u001b[0m 25ms/step - accuracy: 0.9569 - loss: 0.3483\n",
      "Epoch 43/50\n",
      "\u001b[1m51/51\u001b[0m \u001b[32m━━━━━━━━━━━━━━━━━━━━\u001b[0m\u001b[37m\u001b[0m \u001b[1m1s\u001b[0m 25ms/step - accuracy: 0.9656 - loss: 0.3122\n",
      "Epoch 44/50\n",
      "\u001b[1m51/51\u001b[0m \u001b[32m━━━━━━━━━━━━━━━━━━━━\u001b[0m\u001b[37m\u001b[0m \u001b[1m1s\u001b[0m 25ms/step - accuracy: 0.9622 - loss: 0.3055\n",
      "Epoch 45/50\n",
      "\u001b[1m51/51\u001b[0m \u001b[32m━━━━━━━━━━━━━━━━━━━━\u001b[0m\u001b[37m\u001b[0m \u001b[1m1s\u001b[0m 25ms/step - accuracy: 0.9591 - loss: 0.3017\n",
      "Epoch 46/50\n",
      "\u001b[1m51/51\u001b[0m \u001b[32m━━━━━━━━━━━━━━━━━━━━\u001b[0m\u001b[37m\u001b[0m \u001b[1m1s\u001b[0m 24ms/step - accuracy: 0.9698 - loss: 0.2768\n",
      "Epoch 47/50\n",
      "\u001b[1m51/51\u001b[0m \u001b[32m━━━━━━━━━━━━━━━━━━━━\u001b[0m\u001b[37m\u001b[0m \u001b[1m1s\u001b[0m 25ms/step - accuracy: 0.9664 - loss: 0.2695\n",
      "Epoch 48/50\n",
      "\u001b[1m51/51\u001b[0m \u001b[32m━━━━━━━━━━━━━━━━━━━━\u001b[0m\u001b[37m\u001b[0m \u001b[1m1s\u001b[0m 26ms/step - accuracy: 0.9603 - loss: 0.2553\n",
      "Epoch 49/50\n",
      "\u001b[1m51/51\u001b[0m \u001b[32m━━━━━━━━━━━━━━━━━━━━\u001b[0m\u001b[37m\u001b[0m \u001b[1m1s\u001b[0m 24ms/step - accuracy: 0.9705 - loss: 0.2254\n",
      "Epoch 50/50\n",
      "\u001b[1m51/51\u001b[0m \u001b[32m━━━━━━━━━━━━━━━━━━━━\u001b[0m\u001b[37m\u001b[0m \u001b[1m1s\u001b[0m 25ms/step - accuracy: 0.9672 - loss: 0.2282\n"
     ]
    },
    {
     "data": {
      "text/plain": [
       "<keras.src.callbacks.history.History at 0x3006c1d30>"
      ]
     },
     "execution_count": 25,
     "metadata": {},
     "output_type": "execute_result"
    }
   ],
   "source": [
    "model.fit(x,y,epochs = 50)"
   ]
  },
  {
   "cell_type": "code",
   "execution_count": 30,
   "id": "6ee9c7c8-cb63-4752-9a3a-8cb04a071902",
   "metadata": {},
   "outputs": [
    {
     "name": "stdout",
     "output_type": "stream",
     "text": [
      "\u001b[1m1/1\u001b[0m \u001b[32m━━━━━━━━━━━━━━━━━━━━\u001b[0m\u001b[37m\u001b[0m \u001b[1m0s\u001b[0m 15ms/step\n",
      "pizza has\n",
      "\u001b[1m1/1\u001b[0m \u001b[32m━━━━━━━━━━━━━━━━━━━━\u001b[0m\u001b[37m\u001b[0m \u001b[1m0s\u001b[0m 15ms/step\n",
      "pizza has become\n",
      "\u001b[1m1/1\u001b[0m \u001b[32m━━━━━━━━━━━━━━━━━━━━\u001b[0m\u001b[37m\u001b[0m \u001b[1m0s\u001b[0m 11ms/step\n",
      "pizza has become a\n",
      "\u001b[1m1/1\u001b[0m \u001b[32m━━━━━━━━━━━━━━━━━━━━\u001b[0m\u001b[37m\u001b[0m \u001b[1m0s\u001b[0m 10ms/step\n",
      "pizza has become a symbol\n",
      "\u001b[1m1/1\u001b[0m \u001b[32m━━━━━━━━━━━━━━━━━━━━\u001b[0m\u001b[37m\u001b[0m \u001b[1m0s\u001b[0m 9ms/step\n",
      "pizza has become a symbol of\n",
      "\u001b[1m1/1\u001b[0m \u001b[32m━━━━━━━━━━━━━━━━━━━━\u001b[0m\u001b[37m\u001b[0m \u001b[1m0s\u001b[0m 10ms/step\n",
      "pizza has become a symbol of comfort\n",
      "\u001b[1m1/1\u001b[0m \u001b[32m━━━━━━━━━━━━━━━━━━━━\u001b[0m\u001b[37m\u001b[0m \u001b[1m0s\u001b[0m 12ms/step\n",
      "pizza has become a symbol of comfort happiness\n",
      "\u001b[1m1/1\u001b[0m \u001b[32m━━━━━━━━━━━━━━━━━━━━\u001b[0m\u001b[37m\u001b[0m \u001b[1m0s\u001b[0m 9ms/step\n",
      "pizza has become a symbol of comfort happiness and\n",
      "\u001b[1m1/1\u001b[0m \u001b[32m━━━━━━━━━━━━━━━━━━━━\u001b[0m\u001b[37m\u001b[0m \u001b[1m0s\u001b[0m 11ms/step\n",
      "pizza has become a symbol of comfort happiness and celebration\n",
      "\u001b[1m1/1\u001b[0m \u001b[32m━━━━━━━━━━━━━━━━━━━━\u001b[0m\u001b[37m\u001b[0m \u001b[1m0s\u001b[0m 10ms/step\n",
      "pizza has become a symbol of comfort happiness and celebration and\n"
     ]
    }
   ],
   "source": [
    "import numpy as np\n",
    "text = 'pizza'\n",
    "for i in range(10):\n",
    "    token_text = tokenizer.texts_to_sequences([text])[0]\n",
    "    \n",
    "    padded_token_text =pad_sequences([token_text], maxlen = 39, padding = 'pre')\n",
    "    \n",
    "    pos = np.argmax(model.predict(padded_token_text))\n",
    "    \n",
    "    for word, index in tokenizer.word_index.items():\n",
    "        if index == pos:\n",
    "            text = text + \" \" + word\n",
    "            print(text)\n"
   ]
  },
  {
   "cell_type": "code",
   "execution_count": null,
   "id": "aa421334-09c3-423d-8dec-fdd234c5a2bd",
   "metadata": {},
   "outputs": [],
   "source": []
  }
 ],
 "metadata": {
  "kernelspec": {
   "display_name": "Python 3 (ipykernel)",
   "language": "python",
   "name": "python3"
  },
  "language_info": {
   "codemirror_mode": {
    "name": "ipython",
    "version": 3
   },
   "file_extension": ".py",
   "mimetype": "text/x-python",
   "name": "python",
   "nbconvert_exporter": "python",
   "pygments_lexer": "ipython3",
   "version": "3.12.3"
  }
 },
 "nbformat": 4,
 "nbformat_minor": 5
}
